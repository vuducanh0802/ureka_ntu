{
  "nbformat": 4,
  "nbformat_minor": 0,
  "metadata": {
    "colab": {
      "name": "ETHOS_LSTM.ipynb",
      "provenance": [],
      "authorship_tag": "ABX9TyMJk8JT5qXhN4mB34VDITdb",
      "include_colab_link": true
    },
    "kernelspec": {
      "name": "python3",
      "display_name": "Python 3"
    },
    "language_info": {
      "name": "python"
    },
    "accelerator": "GPU"
  },
  "cells": [
    {
      "cell_type": "markdown",
      "metadata": {
        "id": "view-in-github",
        "colab_type": "text"
      },
      "source": [
        "<a href=\"https://colab.research.google.com/github/vuducanh0802/ureka_ntu/blob/main/ethos/ETHOS_LSTM.ipynb\" target=\"_parent\"><img src=\"https://colab.research.google.com/assets/colab-badge.svg\" alt=\"Open In Colab\"/></a>"
      ]
    },
    {
      "cell_type": "code",
      "metadata": {
        "id": "0MUyMFgC4Ezd"
      },
      "source": [
        "import pandas as pd\n",
        "import tensorflow as tf"
      ],
      "execution_count": null,
      "outputs": []
    },
    {
      "cell_type": "markdown",
      "metadata": {
        "id": "PBxXMQPaBb7h"
      },
      "source": [
        "## **Preprocessing**"
      ]
    },
    {
      "cell_type": "code",
      "metadata": {
        "colab": {
          "base_uri": "https://localhost:8080/",
          "height": 419
        },
        "id": "oYSKKY1j4YUz",
        "outputId": "039b6e66-e6f8-4ed8-c0ae-6142f2134920"
      },
      "source": [
        "df = pd.read_csv(\"ETHOS.csv\",index_col=0)\n",
        "df = df.rename(columns={'0':'text','0.1':'isHate'})\n",
        "df"
      ],
      "execution_count": null,
      "outputs": [
        {
          "output_type": "execute_result",
          "data": {
            "text/html": [
              "<div>\n",
              "<style scoped>\n",
              "    .dataframe tbody tr th:only-of-type {\n",
              "        vertical-align: middle;\n",
              "    }\n",
              "\n",
              "    .dataframe tbody tr th {\n",
              "        vertical-align: top;\n",
              "    }\n",
              "\n",
              "    .dataframe thead th {\n",
              "        text-align: right;\n",
              "    }\n",
              "</style>\n",
              "<table border=\"1\" class=\"dataframe\">\n",
              "  <thead>\n",
              "    <tr style=\"text-align: right;\">\n",
              "      <th></th>\n",
              "      <th>text</th>\n",
              "      <th>isHate</th>\n",
              "    </tr>\n",
              "  </thead>\n",
              "  <tbody>\n",
              "    <tr>\n",
              "      <th>0</th>\n",
              "      <td>rt mayasolov a woman you should not complain a...</td>\n",
              "      <td>0</td>\n",
              "    </tr>\n",
              "    <tr>\n",
              "      <th>1</th>\n",
              "      <td>rt mleew17 boy dat cold tyga dwn bad for cuffi...</td>\n",
              "      <td>0</td>\n",
              "    </tr>\n",
              "    <tr>\n",
              "      <th>2</th>\n",
              "      <td>rt urkindofbrand dawg rt 80sbaby4lif you ever ...</td>\n",
              "      <td>0</td>\n",
              "    </tr>\n",
              "    <tr>\n",
              "      <th>3</th>\n",
              "      <td>rt anderson viva base she look like tranni</td>\n",
              "      <td>0</td>\n",
              "    </tr>\n",
              "    <tr>\n",
              "      <th>4</th>\n",
              "      <td>rt shenikarobert the shit you hear about me mi...</td>\n",
              "      <td>0</td>\n",
              "    </tr>\n",
              "    <tr>\n",
              "      <th>...</th>\n",
              "      <td>...</td>\n",
              "      <td>...</td>\n",
              "    </tr>\n",
              "    <tr>\n",
              "      <th>24778</th>\n",
              "      <td>you muthaf in lie 8220; lifeask 20 pearl corey...</td>\n",
              "      <td>0</td>\n",
              "    </tr>\n",
              "    <tr>\n",
              "      <th>24779</th>\n",
              "      <td>you have gone and broke the wrong heart babi a...</td>\n",
              "      <td>0</td>\n",
              "    </tr>\n",
              "    <tr>\n",
              "      <th>24780</th>\n",
              "      <td>young buck wanna eat dat nigguh like aint fuck...</td>\n",
              "      <td>0</td>\n",
              "    </tr>\n",
              "    <tr>\n",
              "      <th>24781</th>\n",
              "      <td>youu got wild bitch tellin you lie</td>\n",
              "      <td>0</td>\n",
              "    </tr>\n",
              "    <tr>\n",
              "      <th>24782</th>\n",
              "      <td>ruffl ntac eileen dahlia beauti color combin o...</td>\n",
              "      <td>0</td>\n",
              "    </tr>\n",
              "  </tbody>\n",
              "</table>\n",
              "<p>24783 rows × 2 columns</p>\n",
              "</div>"
            ],
            "text/plain": [
              "                                                    text  isHate\n",
              "0      rt mayasolov a woman you should not complain a...       0\n",
              "1      rt mleew17 boy dat cold tyga dwn bad for cuffi...       0\n",
              "2      rt urkindofbrand dawg rt 80sbaby4lif you ever ...       0\n",
              "3             rt anderson viva base she look like tranni       0\n",
              "4      rt shenikarobert the shit you hear about me mi...       0\n",
              "...                                                  ...     ...\n",
              "24778  you muthaf in lie 8220; lifeask 20 pearl corey...       0\n",
              "24779  you have gone and broke the wrong heart babi a...       0\n",
              "24780  young buck wanna eat dat nigguh like aint fuck...       0\n",
              "24781                 youu got wild bitch tellin you lie       0\n",
              "24782  ruffl ntac eileen dahlia beauti color combin o...       0\n",
              "\n",
              "[24783 rows x 2 columns]"
            ]
          },
          "metadata": {},
          "execution_count": 65
        }
      ]
    },
    {
      "cell_type": "code",
      "metadata": {
        "colab": {
          "base_uri": "https://localhost:8080/"
        },
        "id": "GUma0cS74znq",
        "outputId": "5f917f89-0651-4c6a-eaf4-4e86d8e56fc7"
      },
      "source": [
        "df.isHate.value_counts()"
      ],
      "execution_count": null,
      "outputs": [
        {
          "output_type": "execute_result",
          "data": {
            "text/plain": [
              "0    23353\n",
              "1     1430\n",
              "Name: isHate, dtype: int64"
            ]
          },
          "metadata": {},
          "execution_count": 66
        }
      ]
    },
    {
      "cell_type": "code",
      "metadata": {
        "id": "eA9aesU_5myB"
      },
      "source": [
        "def get_sequences(texts, tokenizer, train=True, max_seq_length =None):\n",
        "  sequences = tokenizer.texts_to_sequences(texts)\n",
        "  if train == True:\n",
        "    max_seq_length = np.max(list(map(lambda x: len(x), sequences)))\n",
        "  sequences = tf.keras.preprocessing.sequence.pad_sequences(sequences, maxlen=max_seq_length, padding = \"post\")\n",
        "  return sequences"
      ],
      "execution_count": null,
      "outputs": []
    },
    {
      "cell_type": "code",
      "metadata": {
        "id": "FPE2zkWA4Z_H"
      },
      "source": [
        "from sklearn.model_selection import train_test_split\n",
        "def preprocess(df):\n",
        "  df = df.copy()\n",
        "\n",
        "  X = df.text\n",
        "  y = df.isHate\n",
        "\n",
        "  X_train, X_test, y_train, y_test = train_test_split(X,y,test_size = 0.2, random_state=42, shuffle= True)\n",
        "\n",
        "  tokenizer = tf.keras.preprocessing.text.Tokenizer(num_words=15000)\n",
        "\n",
        "  tokenizer.fit_on_texts(X_train)\n",
        "\n",
        "  X_train = get_sequences(X_train, tokenizer, train=True)\n",
        "  X_test = get_sequences(X_test, tokenizer, train=False, max_seq_length=X_train.shape[1])\n",
        "\n",
        "  return X_train, X_test, y_train, y_test"
      ],
      "execution_count": null,
      "outputs": []
    },
    {
      "cell_type": "code",
      "metadata": {
        "id": "qYqU-fdx4yc1"
      },
      "source": [
        "X_train, X_test, y_train, y_test = preprocess(df)"
      ],
      "execution_count": null,
      "outputs": []
    },
    {
      "cell_type": "code",
      "metadata": {
        "colab": {
          "base_uri": "https://localhost:8080/"
        },
        "id": "U9kqVMgj7twJ",
        "outputId": "b338fceb-bd71-45f2-eaf5-bd0b6e622aff"
      },
      "source": [
        "X_train.shape"
      ],
      "execution_count": null,
      "outputs": [
        {
          "output_type": "execute_result",
          "data": {
            "text/plain": [
              "(19826, 74)"
            ]
          },
          "metadata": {},
          "execution_count": 102
        }
      ]
    },
    {
      "cell_type": "code",
      "metadata": {
        "colab": {
          "base_uri": "https://localhost:8080/"
        },
        "id": "LJb6ZCBb7wye",
        "outputId": "845ee02b-9348-48c7-e906-0c8141f4d3e6"
      },
      "source": [
        "X_test.shape"
      ],
      "execution_count": null,
      "outputs": [
        {
          "output_type": "execute_result",
          "data": {
            "text/plain": [
              "(4957, 74)"
            ]
          },
          "metadata": {},
          "execution_count": 103
        }
      ]
    },
    {
      "cell_type": "markdown",
      "metadata": {
        "id": "Nmc5xnT98FF_"
      },
      "source": [
        "## **Training**"
      ]
    },
    {
      "cell_type": "code",
      "metadata": {
        "id": "4lt0ayv88Egp"
      },
      "source": [
        "inputs = tf.keras.Input(shape=(74,))\n",
        "\n",
        "embedding = tf.keras.layers.Embedding(\n",
        "    input_dim  = 15000,\n",
        "    output_dim = 64\n",
        ")(inputs)\n",
        "\n",
        "flatten = tf.keras.layers.Flatten()(embedding)\n",
        "\n",
        "outputs = tf.keras.layers.Dense(1, activation=\"sigmoid\")(flatten)\n",
        "\n",
        "model = tf.keras.Model(inputs=inputs, outputs= outputs)\n",
        "\n",
        "model.compile(optimizer = \"adam\", loss = \"binary_crossentropy\", metrics = [\"accuracy\", tf.keras.metrics.AUC(name=\"auc\")])"
      ],
      "execution_count": null,
      "outputs": []
    },
    {
      "cell_type": "code",
      "metadata": {
        "colab": {
          "base_uri": "https://localhost:8080/"
        },
        "id": "eIKuRpSS9VZs",
        "outputId": "80889ff8-aa3f-4166-d529-8655b2fb0e03"
      },
      "source": [
        "model.summary()"
      ],
      "execution_count": null,
      "outputs": [
        {
          "output_type": "stream",
          "name": "stdout",
          "text": [
            "Model: \"model_2\"\n",
            "_________________________________________________________________\n",
            "Layer (type)                 Output Shape              Param #   \n",
            "=================================================================\n",
            "input_6 (InputLayer)         [(None, 74)]              0         \n",
            "_________________________________________________________________\n",
            "embedding_5 (Embedding)      (None, 74, 64)            960000    \n",
            "_________________________________________________________________\n",
            "flatten_4 (Flatten)          (None, 4736)              0         \n",
            "_________________________________________________________________\n",
            "dense_3 (Dense)              (None, 1)                 4737      \n",
            "=================================================================\n",
            "Total params: 964,737\n",
            "Trainable params: 964,737\n",
            "Non-trainable params: 0\n",
            "_________________________________________________________________\n"
          ]
        }
      ]
    },
    {
      "cell_type": "code",
      "metadata": {
        "colab": {
          "base_uri": "https://localhost:8080/"
        },
        "id": "i5HSKGGD9Zwh",
        "outputId": "cc746cc3-6ab0-40bb-93ad-b88a10817a0c"
      },
      "source": [
        "history = model.fit(X_train,y_train, validation_split=0.2, batch_size=32, epochs=32, \n",
        "                    callbacks = [tf.keras.callbacks.EarlyStopping(\n",
        "                        monitor = \"val_loss\",\n",
        "                        patience=3,\n",
        "                        restore_best_weights=True\n",
        "                    )]\n",
        "                    )"
      ],
      "execution_count": null,
      "outputs": [
        {
          "output_type": "stream",
          "name": "stdout",
          "text": [
            "Epoch 1/32\n",
            "496/496 [==============================] - 5s 8ms/step - loss: 0.2149 - accuracy: 0.9410 - auc: 0.6786 - val_loss: 0.1678 - val_accuracy: 0.9503 - val_auc: 0.7855\n",
            "Epoch 2/32\n",
            "496/496 [==============================] - 4s 7ms/step - loss: 0.1286 - accuracy: 0.9535 - auc: 0.9315 - val_loss: 0.1711 - val_accuracy: 0.9501 - val_auc: 0.8029\n",
            "Epoch 3/32\n",
            "496/496 [==============================] - 4s 7ms/step - loss: 0.0740 - accuracy: 0.9738 - auc: 0.9834 - val_loss: 0.1844 - val_accuracy: 0.9473 - val_auc: 0.7784\n",
            "Epoch 4/32\n",
            "496/496 [==============================] - 4s 8ms/step - loss: 0.0398 - accuracy: 0.9887 - auc: 0.9962 - val_loss: 0.2066 - val_accuracy: 0.9455 - val_auc: 0.7573\n"
          ]
        }
      ]
    },
    {
      "cell_type": "code",
      "metadata": {
        "colab": {
          "base_uri": "https://localhost:8080/"
        },
        "id": "xzFVp24k9wYr",
        "outputId": "0ec001c2-ac63-449d-ba0b-7eaa37735cdc"
      },
      "source": [
        "result = model.evaluate(X_test,y_test,verbose = 0)\n",
        "\n",
        "print(\"Loss: \", result[0])\n",
        "print(\"Accuracy: \", result[1]*100)\n",
        "print(\"AUC: \", result[2]*100)"
      ],
      "execution_count": null,
      "outputs": [
        {
          "output_type": "stream",
          "name": "stdout",
          "text": [
            "Loss:  0.17557618021965027\n",
            "Accuracy:  94.0891683101654\n",
            "AUC:  82.93139934539795\n"
          ]
        }
      ]
    },
    {
      "cell_type": "markdown",
      "metadata": {
        "id": "oquaHqxUBr-1"
      },
      "source": [
        "## **LSTM**"
      ]
    },
    {
      "cell_type": "code",
      "metadata": {
        "id": "x_VPaATxBuA6"
      },
      "source": [
        "from keras.preprocessing import sequence\n",
        "from keras import Sequential\n",
        "from keras.layers import Embedding, LSTM, Dense, Dropout\n",
        "model=Sequential()\n",
        "model.add(Embedding(input_dim=15000, output_dim=74, input_length=74))\n",
        "model.add(LSTM(units=100))\n",
        "model.add(Dense(1, activation='sigmoid'))"
      ],
      "execution_count": null,
      "outputs": []
    },
    {
      "cell_type": "code",
      "metadata": {
        "colab": {
          "base_uri": "https://localhost:8080/"
        },
        "id": "1Atgs562CgaM",
        "outputId": "0e00b07d-bfb3-4ae8-833f-73a3c05a4abd"
      },
      "source": [
        "X_train.shape"
      ],
      "execution_count": null,
      "outputs": [
        {
          "output_type": "execute_result",
          "data": {
            "text/plain": [
              "(19826, 74)"
            ]
          },
          "metadata": {},
          "execution_count": 115
        }
      ]
    },
    {
      "cell_type": "code",
      "metadata": {
        "colab": {
          "base_uri": "https://localhost:8080/"
        },
        "id": "4ATqJ9XkCp9v",
        "outputId": "6fa313f6-2e57-479e-aeb6-1a9b67e6a58b"
      },
      "source": [
        "model.compile(loss='binary_crossentropy',optimizer='adam',metrics=['accuracy'])\n",
        "model.fit(X_train, y_train, batch_size=32, epochs=10)"
      ],
      "execution_count": null,
      "outputs": [
        {
          "output_type": "stream",
          "name": "stdout",
          "text": [
            "Epoch 1/10\n",
            "620/620 [==============================] - 17s 21ms/step - loss: 0.2288 - accuracy: 0.9410\n",
            "Epoch 2/10\n",
            "620/620 [==============================] - 13s 20ms/step - loss: 0.2207 - accuracy: 0.9425\n",
            "Epoch 3/10\n",
            "620/620 [==============================] - 12s 20ms/step - loss: 0.2208 - accuracy: 0.9425\n",
            "Epoch 4/10\n",
            "620/620 [==============================] - 12s 20ms/step - loss: 0.2207 - accuracy: 0.9425\n",
            "Epoch 5/10\n",
            "620/620 [==============================] - 12s 19ms/step - loss: 0.2206 - accuracy: 0.9425\n",
            "Epoch 6/10\n",
            "620/620 [==============================] - 12s 19ms/step - loss: 0.2205 - accuracy: 0.9425\n",
            "Epoch 7/10\n",
            "620/620 [==============================] - 12s 19ms/step - loss: 0.2206 - accuracy: 0.9425\n",
            "Epoch 8/10\n",
            "620/620 [==============================] - 12s 19ms/step - loss: 0.2206 - accuracy: 0.9425\n",
            "Epoch 9/10\n",
            "620/620 [==============================] - 12s 19ms/step - loss: 0.2202 - accuracy: 0.9426\n",
            "Epoch 10/10\n",
            "620/620 [==============================] - 12s 19ms/step - loss: 0.2204 - accuracy: 0.9425\n"
          ]
        },
        {
          "output_type": "execute_result",
          "data": {
            "text/plain": [
              "<keras.callbacks.History at 0x7f8fff40fe10>"
            ]
          },
          "metadata": {},
          "execution_count": 122
        }
      ]
    },
    {
      "cell_type": "code",
      "metadata": {
        "colab": {
          "base_uri": "https://localhost:8080/"
        },
        "id": "XVM5ebfkDSw3",
        "outputId": "77a5e0cc-4f97-4ab5-bb64-157f0ef1cd40"
      },
      "source": [
        "scores = model.evaluate(X_test, y_test, verbose=0)\n",
        "print(\"Loss: \", result[0])\n",
        "print(\"Accuracy: \", result[1]*100)\n",
        "print(\"AUC: \", result[2]*100)"
      ],
      "execution_count": null,
      "outputs": [
        {
          "output_type": "stream",
          "name": "stdout",
          "text": [
            "Loss:  0.17557618021965027\n",
            "Accuracy:  94.0891683101654\n",
            "AUC:  82.93139934539795\n"
          ]
        }
      ]
    }
  ]
}