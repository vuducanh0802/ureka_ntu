{
 "cells": [
  {
   "cell_type": "code",
   "execution_count": 1,
   "id": "d887e4e8",
   "metadata": {
    "collapsed": true
   },
   "outputs": [
    {
     "name": "stdout",
     "output_type": "stream",
     "text": [
      "Defaulting to user installation because normal site-packages is not writeable\n",
      "Requirement already satisfied: torch in c:\\users\\vuduc\\appdata\\roaming\\python\\python38\\site-packages (1.10.0)\n",
      "Requirement already satisfied: typing-extensions in c:\\users\\vuduc\\appdata\\roaming\\python\\python38\\site-packages (from torch) (3.7.4.3)\n"
     ]
    },
    {
     "name": "stderr",
     "output_type": "stream",
     "text": [
      "WARNING: You are using pip version 21.2.2; however, version 21.3.1 is available.\n",
      "You should consider upgrading via the 'c:\\program files\\python38\\python.exe -m pip install --upgrade pip' command.\n"
     ]
    },
    {
     "name": "stdout",
     "output_type": "stream",
     "text": [
      "Defaulting to user installation because normal site-packages is not writeable\n",
      "Requirement already satisfied: pathlib in c:\\users\\vuduc\\appdata\\roaming\\python\\python38\\site-packages (1.0.1)\n"
     ]
    },
    {
     "name": "stderr",
     "output_type": "stream",
     "text": [
      "WARNING: You are using pip version 21.2.2; however, version 21.3.1 is available.\n",
      "You should consider upgrading via the 'c:\\program files\\python38\\python.exe -m pip install --upgrade pip' command.\n"
     ]
    },
    {
     "name": "stdout",
     "output_type": "stream",
     "text": [
      "Defaulting to user installation because normal site-packages is not writeable\n",
      "Requirement already satisfied: transformers in c:\\users\\vuduc\\appdata\\roaming\\python\\python38\\site-packages (4.11.3)\n",
      "Requirement already satisfied: pyyaml>=5.1 in c:\\users\\vuduc\\appdata\\roaming\\python\\python38\\site-packages (from transformers) (5.4.1)\n",
      "Requirement already satisfied: requests in c:\\users\\vuduc\\appdata\\roaming\\python\\python38\\site-packages (from transformers) (2.25.1)\n",
      "Requirement already satisfied: sacremoses in c:\\users\\vuduc\\appdata\\roaming\\python\\python38\\site-packages (from transformers) (0.0.46)\n",
      "Requirement already satisfied: tqdm>=4.27 in c:\\users\\vuduc\\appdata\\roaming\\python\\python38\\site-packages (from transformers) (4.61.1)\n",
      "Requirement already satisfied: packaging>=20.0 in c:\\users\\vuduc\\appdata\\roaming\\python\\python38\\site-packages (from transformers) (20.9)\n",
      "Requirement already satisfied: regex!=2019.12.17 in c:\\users\\vuduc\\appdata\\roaming\\python\\python38\\site-packages (from transformers) (2021.7.6)\n",
      "Requirement already satisfied: tokenizers<0.11,>=0.10.1 in c:\\users\\vuduc\\appdata\\roaming\\python\\python38\\site-packages (from transformers) (0.10.3)\n",
      "Requirement already satisfied: numpy>=1.17 in c:\\users\\vuduc\\appdata\\roaming\\python\\python38\\site-packages (from transformers) (1.18.2)\n",
      "Requirement already satisfied: filelock in c:\\users\\vuduc\\appdata\\roaming\\python\\python38\\site-packages (from transformers) (3.0.12)\n",
      "Requirement already satisfied: huggingface-hub>=0.0.17 in c:\\users\\vuduc\\appdata\\roaming\\python\\python38\\site-packages (from transformers) (0.0.19)\n",
      "Requirement already satisfied: typing-extensions in c:\\users\\vuduc\\appdata\\roaming\\python\\python38\\site-packages (from huggingface-hub>=0.0.17->transformers) (3.7.4.3)\n",
      "Requirement already satisfied: pyparsing>=2.0.2 in c:\\users\\vuduc\\appdata\\roaming\\python\\python38\\site-packages (from packaging>=20.0->transformers) (2.4.7)\n",
      "Requirement already satisfied: chardet<5,>=3.0.2 in c:\\users\\vuduc\\appdata\\roaming\\python\\python38\\site-packages (from requests->transformers) (4.0.0)\n",
      "Requirement already satisfied: idna<3,>=2.5 in c:\\users\\vuduc\\appdata\\roaming\\python\\python38\\site-packages (from requests->transformers) (2.10)\n",
      "Requirement already satisfied: urllib3<1.27,>=1.21.1 in c:\\users\\vuduc\\appdata\\roaming\\python\\python38\\site-packages (from requests->transformers) (1.26.6)\n",
      "Requirement already satisfied: certifi>=2017.4.17 in c:\\users\\vuduc\\appdata\\roaming\\python\\python38\\site-packages (from requests->transformers) (2021.5.30)\n",
      "Requirement already satisfied: click in c:\\users\\vuduc\\appdata\\roaming\\python\\python38\\site-packages (from sacremoses->transformers) (8.0.1)\n",
      "Requirement already satisfied: six in c:\\users\\vuduc\\appdata\\roaming\\python\\python38\\site-packages (from sacremoses->transformers) (1.15.0)\n",
      "Requirement already satisfied: joblib in c:\\users\\vuduc\\appdata\\roaming\\python\\python38\\site-packages (from sacremoses->transformers) (1.0.1)\n",
      "Requirement already satisfied: colorama in c:\\users\\vuduc\\appdata\\roaming\\python\\python38\\site-packages (from click->sacremoses->transformers) (0.4.4)\n"
     ]
    },
    {
     "name": "stderr",
     "output_type": "stream",
     "text": [
      "WARNING: You are using pip version 21.2.2; however, version 21.3.1 is available.\n",
      "You should consider upgrading via the 'c:\\program files\\python38\\python.exe -m pip install --upgrade pip' command.\n"
     ]
    }
   ],
   "source": [
    "!pip install torch\n",
    "!pip install pathlib\n",
    "!pip install transformers"
   ]
  },
  {
   "cell_type": "code",
   "execution_count": 2,
   "id": "1108d05d",
   "metadata": {},
   "outputs": [],
   "source": [
    "from transformers import pipeline\n",
    "from transformers import AutoTokenizer, AutoModelForSequenceClassification\n",
    "\n",
    "import torch\n",
    "import torch.nn.functional as F"
   ]
  },
  {
   "cell_type": "markdown",
   "id": "828cc8e9",
   "metadata": {},
   "source": [
    "## Test Baseline"
   ]
  },
  {
   "cell_type": "code",
   "execution_count": 3,
   "id": "de6caafa",
   "metadata": {},
   "outputs": [
    {
     "data": {
      "text/html": [
       "<div>\n",
       "<style scoped>\n",
       "    .dataframe tbody tr th:only-of-type {\n",
       "        vertical-align: middle;\n",
       "    }\n",
       "\n",
       "    .dataframe tbody tr th {\n",
       "        vertical-align: top;\n",
       "    }\n",
       "\n",
       "    .dataframe thead th {\n",
       "        text-align: right;\n",
       "    }\n",
       "</style>\n",
       "<table border=\"1\" class=\"dataframe\">\n",
       "  <thead>\n",
       "    <tr style=\"text-align: right;\">\n",
       "      <th></th>\n",
       "      <th>Unnamed: 0</th>\n",
       "      <th>doc_id</th>\n",
       "      <th>text</th>\n",
       "      <th>is_hate</th>\n",
       "    </tr>\n",
       "  </thead>\n",
       "  <tbody>\n",
       "    <tr>\n",
       "      <th>0</th>\n",
       "      <td>0</td>\n",
       "      <td>12834217_1</td>\n",
       "      <td>As of March 13th , 2014 , the booklet had been...</td>\n",
       "      <td>0</td>\n",
       "    </tr>\n",
       "    <tr>\n",
       "      <th>1</th>\n",
       "      <td>1</td>\n",
       "      <td>12834217_10</td>\n",
       "      <td>Thank you in advance. : ) Download the youtube...</td>\n",
       "      <td>0</td>\n",
       "    </tr>\n",
       "    <tr>\n",
       "      <th>2</th>\n",
       "      <td>2</td>\n",
       "      <td>12834217_2</td>\n",
       "      <td>In order to help increase the booklets downloa...</td>\n",
       "      <td>0</td>\n",
       "    </tr>\n",
       "    <tr>\n",
       "      <th>3</th>\n",
       "      <td>3</td>\n",
       "      <td>12834217_3</td>\n",
       "      <td>( Simply copy and paste the following text int...</td>\n",
       "      <td>0</td>\n",
       "    </tr>\n",
       "    <tr>\n",
       "      <th>4</th>\n",
       "      <td>4</td>\n",
       "      <td>12834217_4</td>\n",
       "      <td>Click below for a FREE download of a colorfull...</td>\n",
       "      <td>1</td>\n",
       "    </tr>\n",
       "    <tr>\n",
       "      <th>...</th>\n",
       "      <td>...</td>\n",
       "      <td>...</td>\n",
       "      <td>...</td>\n",
       "      <td>...</td>\n",
       "    </tr>\n",
       "    <tr>\n",
       "      <th>10939</th>\n",
       "      <td>10939</td>\n",
       "      <td>33677015_1</td>\n",
       "      <td>Apparently he came to the conclusion that his ...</td>\n",
       "      <td>0</td>\n",
       "    </tr>\n",
       "    <tr>\n",
       "      <th>10940</th>\n",
       "      <td>10940</td>\n",
       "      <td>33677019_1</td>\n",
       "      <td>Wish we at least had a Marine Le Pen to vote f...</td>\n",
       "      <td>0</td>\n",
       "    </tr>\n",
       "    <tr>\n",
       "      <th>10941</th>\n",
       "      <td>10941</td>\n",
       "      <td>33677019_2</td>\n",
       "      <td>Its like the choices are white genocide candid...</td>\n",
       "      <td>0</td>\n",
       "    </tr>\n",
       "    <tr>\n",
       "      <th>10942</th>\n",
       "      <td>10942</td>\n",
       "      <td>33677053_1</td>\n",
       "      <td>Why White people used to say that sex was a si...</td>\n",
       "      <td>1</td>\n",
       "    </tr>\n",
       "    <tr>\n",
       "      <th>10943</th>\n",
       "      <td>10943</td>\n",
       "      <td>33677053_2</td>\n",
       "      <td>Now I get it !</td>\n",
       "      <td>0</td>\n",
       "    </tr>\n",
       "  </tbody>\n",
       "</table>\n",
       "<p>10944 rows × 4 columns</p>\n",
       "</div>"
      ],
      "text/plain": [
       "       Unnamed: 0       doc_id  \\\n",
       "0               0   12834217_1   \n",
       "1               1  12834217_10   \n",
       "2               2   12834217_2   \n",
       "3               3   12834217_3   \n",
       "4               4   12834217_4   \n",
       "...           ...          ...   \n",
       "10939       10939   33677015_1   \n",
       "10940       10940   33677019_1   \n",
       "10941       10941   33677019_2   \n",
       "10942       10942   33677053_1   \n",
       "10943       10943   33677053_2   \n",
       "\n",
       "                                                    text  is_hate  \n",
       "0      As of March 13th , 2014 , the booklet had been...        0  \n",
       "1      Thank you in advance. : ) Download the youtube...        0  \n",
       "2      In order to help increase the booklets downloa...        0  \n",
       "3      ( Simply copy and paste the following text int...        0  \n",
       "4      Click below for a FREE download of a colorfull...        1  \n",
       "...                                                  ...      ...  \n",
       "10939  Apparently he came to the conclusion that his ...        0  \n",
       "10940  Wish we at least had a Marine Le Pen to vote f...        0  \n",
       "10941  Its like the choices are white genocide candid...        0  \n",
       "10942  Why White people used to say that sex was a si...        1  \n",
       "10943                                     Now I get it !        0  \n",
       "\n",
       "[10944 rows x 4 columns]"
      ]
     },
     "execution_count": 3,
     "metadata": {},
     "output_type": "execute_result"
    }
   ],
   "source": [
    "import pandas as pd\n",
    "df = pd.read_csv(r\"allfiles.csv\")\n",
    "df"
   ]
  },
  {
   "cell_type": "code",
   "execution_count": 4,
   "id": "7b66ee7f",
   "metadata": {},
   "outputs": [
    {
     "data": {
      "text/plain": [
       "0.10928362573099415"
      ]
     },
     "execution_count": 4,
     "metadata": {},
     "output_type": "execute_result"
    }
   ],
   "source": [
    "df.is_hate.sum() / len(df)"
   ]
  },
  {
   "cell_type": "code",
   "execution_count": 21,
   "id": "3cfbad82",
   "metadata": {},
   "outputs": [
    {
     "data": {
      "text/html": [
       "<div>\n",
       "<style scoped>\n",
       "    .dataframe tbody tr th:only-of-type {\n",
       "        vertical-align: middle;\n",
       "    }\n",
       "\n",
       "    .dataframe tbody tr th {\n",
       "        vertical-align: top;\n",
       "    }\n",
       "\n",
       "    .dataframe thead th {\n",
       "        text-align: right;\n",
       "    }\n",
       "</style>\n",
       "<table border=\"1\" class=\"dataframe\">\n",
       "  <thead>\n",
       "    <tr style=\"text-align: right;\">\n",
       "      <th></th>\n",
       "      <th>Unnamed: 0</th>\n",
       "      <th>doc_id</th>\n",
       "      <th>text</th>\n",
       "      <th>is_hate</th>\n",
       "    </tr>\n",
       "  </thead>\n",
       "  <tbody>\n",
       "    <tr>\n",
       "      <th>4</th>\n",
       "      <td>4</td>\n",
       "      <td>12834217_4</td>\n",
       "      <td>Click below for a FREE download of a colorfully illustrated 132 page e-book on the Zionist-engin...</td>\n",
       "      <td>1</td>\n",
       "    </tr>\n",
       "    <tr>\n",
       "      <th>12</th>\n",
       "      <td>12</td>\n",
       "      <td>12834278_3</td>\n",
       "      <td>Click below for a FREE download of a colorfully illustrated 132 page e-book on the Zionist-engin...</td>\n",
       "      <td>1</td>\n",
       "    </tr>\n",
       "    <tr>\n",
       "      <th>19</th>\n",
       "      <td>19</td>\n",
       "      <td>12834493_1</td>\n",
       "      <td>She may or may not be a Jew but she 's certainly stupid , she seems to think the Blacks wo n't k...</td>\n",
       "      <td>1</td>\n",
       "    </tr>\n",
       "    <tr>\n",
       "      <th>21</th>\n",
       "      <td>21</td>\n",
       "      <td>12834922_2</td>\n",
       "      <td>God knows what would come out of Africa if only blacks could come up with investigative journali...</td>\n",
       "      <td>1</td>\n",
       "    </tr>\n",
       "    <tr>\n",
       "      <th>24</th>\n",
       "      <td>24</td>\n",
       "      <td>12835050_1</td>\n",
       "      <td>I'm insulted by how stupid the Jews think we are until I see what they see by reading the posts ...</td>\n",
       "      <td>1</td>\n",
       "    </tr>\n",
       "    <tr>\n",
       "      <th>...</th>\n",
       "      <td>...</td>\n",
       "      <td>...</td>\n",
       "      <td>...</td>\n",
       "      <td>...</td>\n",
       "    </tr>\n",
       "    <tr>\n",
       "      <th>10902</th>\n",
       "      <td>10902</td>\n",
       "      <td>33633437_1</td>\n",
       "      <td>Meanwhile those nonwhites continue to breed even as their nonwhite societies continue to inflict...</td>\n",
       "      <td>1</td>\n",
       "    </tr>\n",
       "    <tr>\n",
       "      <th>10904</th>\n",
       "      <td>10904</td>\n",
       "      <td>33633437_3</td>\n",
       "      <td>Their nonwhite societies are failing in every area and yet they are trying to force White civili...</td>\n",
       "      <td>1</td>\n",
       "    </tr>\n",
       "    <tr>\n",
       "      <th>10922</th>\n",
       "      <td>10922</td>\n",
       "      <td>33645552_1</td>\n",
       "      <td>We can turn the cold useless parts of Canada into a dumping ground for Jews and arm the Indians ...</td>\n",
       "      <td>1</td>\n",
       "    </tr>\n",
       "    <tr>\n",
       "      <th>10929</th>\n",
       "      <td>10929</td>\n",
       "      <td>33661937_1</td>\n",
       "      <td>I would move too but unfortunately there is nowhere that is untainted .</td>\n",
       "      <td>1</td>\n",
       "    </tr>\n",
       "    <tr>\n",
       "      <th>10942</th>\n",
       "      <td>10942</td>\n",
       "      <td>33677053_1</td>\n",
       "      <td>Why White people used to say that sex was a sin used to be a mystery to me until I saw the child...</td>\n",
       "      <td>1</td>\n",
       "    </tr>\n",
       "  </tbody>\n",
       "</table>\n",
       "<p>1196 rows × 4 columns</p>\n",
       "</div>"
      ],
      "text/plain": [
       "       Unnamed: 0      doc_id  \\\n",
       "4               4  12834217_4   \n",
       "12             12  12834278_3   \n",
       "19             19  12834493_1   \n",
       "21             21  12834922_2   \n",
       "24             24  12835050_1   \n",
       "...           ...         ...   \n",
       "10902       10902  33633437_1   \n",
       "10904       10904  33633437_3   \n",
       "10922       10922  33645552_1   \n",
       "10929       10929  33661937_1   \n",
       "10942       10942  33677053_1   \n",
       "\n",
       "                                                                                                      text  \\\n",
       "4      Click below for a FREE download of a colorfully illustrated 132 page e-book on the Zionist-engin...   \n",
       "12     Click below for a FREE download of a colorfully illustrated 132 page e-book on the Zionist-engin...   \n",
       "19     She may or may not be a Jew but she 's certainly stupid , she seems to think the Blacks wo n't k...   \n",
       "21     God knows what would come out of Africa if only blacks could come up with investigative journali...   \n",
       "24     I'm insulted by how stupid the Jews think we are until I see what they see by reading the posts ...   \n",
       "...                                                                                                    ...   \n",
       "10902  Meanwhile those nonwhites continue to breed even as their nonwhite societies continue to inflict...   \n",
       "10904  Their nonwhite societies are failing in every area and yet they are trying to force White civili...   \n",
       "10922  We can turn the cold useless parts of Canada into a dumping ground for Jews and arm the Indians ...   \n",
       "10929                              I would move too but unfortunately there is nowhere that is untainted .   \n",
       "10942  Why White people used to say that sex was a sin used to be a mystery to me until I saw the child...   \n",
       "\n",
       "       is_hate  \n",
       "4            1  \n",
       "12           1  \n",
       "19           1  \n",
       "21           1  \n",
       "24           1  \n",
       "...        ...  \n",
       "10902        1  \n",
       "10904        1  \n",
       "10922        1  \n",
       "10929        1  \n",
       "10942        1  \n",
       "\n",
       "[1196 rows x 4 columns]"
      ]
     },
     "execution_count": 21,
     "metadata": {},
     "output_type": "execute_result"
    }
   ],
   "source": [
    "pd.set_option(\"max_colwidth\", 100)\n",
    "df[df.is_hate == 1]"
   ]
  },
  {
   "cell_type": "code",
   "execution_count": 22,
   "id": "95984e88",
   "metadata": {},
   "outputs": [
    {
     "data": {
      "text/plain": [
       "349"
      ]
     },
     "execution_count": 22,
     "metadata": {},
     "output_type": "execute_result"
    }
   ],
   "source": [
    "max([len(str(i).split(\" \")) for i in list(df.text)])"
   ]
  },
  {
   "cell_type": "code",
   "execution_count": 8,
   "id": "a5dc6722",
   "metadata": {},
   "outputs": [
    {
     "data": {
      "text/plain": [
       "<seaborn.axisgrid.FacetGrid at 0x200ff367610>"
      ]
     },
     "execution_count": 8,
     "metadata": {},
     "output_type": "execute_result"
    },
    {
     "data": {
      "image/png": "[encoded data removed]",
      "text/plain": [
       "<Figure size 360x360 with 1 Axes>"
      ]
     },
     "metadata": {
      "needs_background": "light"
     },
     "output_type": "display_data"
    }
   ],
   "source": [
    "import seaborn as sns\n",
    "sns.displot([len(str(i).split(\" \")) for i in list(df.text)])"
   ]
  },
  {
   "cell_type": "code",
   "execution_count": 11,
   "id": "1a6406d8",
   "metadata": {
    "collapsed": true
   },
   "outputs": [
    {
     "name": "stderr",
     "output_type": "stream",
     "text": [
      "Some weights of the model checkpoint at bert-base-uncased were not used when initializing BertForSequenceClassification: ['cls.predictions.transform.LayerNorm.bias', 'cls.predictions.transform.dense.weight', 'cls.predictions.decoder.weight', 'cls.seq_relationship.bias', 'cls.predictions.transform.dense.bias', 'cls.seq_relationship.weight', 'cls.predictions.transform.LayerNorm.weight', 'cls.predictions.bias']\n",
      "- This IS expected if you are initializing BertForSequenceClassification from the checkpoint of a model trained on another task or with another architecture (e.g. initializing a BertForSequenceClassification model from a BertForPreTraining model).\n",
      "- This IS NOT expected if you are initializing BertForSequenceClassification from the checkpoint of a model that you expect to be exactly identical (initializing a BertForSequenceClassification model from a BertForSequenceClassification model).\n",
      "Some weights of BertForSequenceClassification were not initialized from the model checkpoint at bert-base-uncased and are newly initialized: ['classifier.bias', 'classifier.weight']\n",
      "You should probably TRAIN this model on a down-stream task to be able to use it for predictions and inference.\n"
     ]
    }
   ],
   "source": [
    "model_name = \"bert-base-uncased\"\n",
    "model = AutoModelForSequenceClassification.from_pretrained(model_name)\n",
    "tokenizer = AutoTokenizer.from_pretrained(model_name)\n",
    "classifier = pipeline(\"sentiment-analysis\", model=model, tokenizer=tokenizer)"
   ]
  },
  {
   "cell_type": "code",
   "execution_count": 12,
   "id": "5fea3073",
   "metadata": {},
   "outputs": [
    {
     "name": "stderr",
     "output_type": "stream",
     "text": [
      "Token indices sequence length is longer than the specified maximum sequence length for this model (541 > 512). Running this sequence through the model will result in indexing errors\n"
     ]
    },
    {
     "data": {
      "text/plain": [
       "[3400, 327]"
      ]
     },
     "execution_count": 12,
     "metadata": {},
     "output_type": "execute_result"
    }
   ],
   "source": [
    "id2del = [3400] # df.text[3400] == nan\n",
    "\n",
    "for i in range(len(df)):\n",
    "    if i != 3400:\n",
    "        tokens = tokenizer.encode_plus(df.text[i], add_special_tokens=False,\n",
    "                                   return_tensors='pt')\n",
    "        if len(tokens['input_ids'][0]) >= 512:\n",
    "               id2del.append(i)\n",
    "id2del"
   ]
  },
  {
   "cell_type": "code",
   "execution_count": 13,
   "id": "379d5917",
   "metadata": {},
   "outputs": [],
   "source": [
    "df = df.drop(id2del)"
   ]
  },
  {
   "cell_type": "code",
   "execution_count": 15,
   "id": "6ca937d0",
   "metadata": {},
   "outputs": [],
   "source": [
    "y_pred = []\n",
    "for x in list(df.text):\n",
    "    y_pred.append(classifier(x)[0][\"label\"])"
   ]
  },
  {
   "cell_type": "code",
   "execution_count": 54,
   "id": "b9d214fc",
   "metadata": {},
   "outputs": [],
   "source": [
    "df = df.drop(id2del)"
   ]
  },
  {
   "cell_type": "code",
   "execution_count": 55,
   "id": "55518846",
   "metadata": {},
   "outputs": [],
   "source": [
    "model_names = [\"distilbert-base-uncased-finetuned-sst-2-english\"]          \n",
    "scores =  []\n",
    "for model_name in model_names:\n",
    "    model = AutoModelForSequenceClassification.from_pretrained(model_name)\n",
    "    tokenizer = AutoTokenizer.from_pretrained(model_name)\n",
    "\n",
    "    classifier = pipeline(\"sentiment-analysis\", model=model, tokenizer=tokenizer)\n",
    "    results = classifier(list(df.text))\n",
    "    scores.append(results)"
   ]
  },
  {
   "cell_type": "code",
   "execution_count": 22,
   "id": "6493c888",
   "metadata": {},
   "outputs": [],
   "source": [
    "y_pred = [1 if x == 'LABEL_1' else 0 for x in y_pred]"
   ]
  },
  {
   "cell_type": "code",
   "execution_count": 25,
   "id": "49d8a021",
   "metadata": {},
   "outputs": [],
   "source": [
    "y_truth = list(df.is_hate)"
   ]
  },
  {
   "cell_type": "code",
   "execution_count": 29,
   "id": "25a3c2f8",
   "metadata": {},
   "outputs": [
    {
     "name": "stdout",
     "output_type": "stream",
     "text": [
      "0.3315388460748794\n"
     ]
    },
    {
     "data": {
      "text/plain": [
       "0.12963205447165116"
      ]
     },
     "execution_count": 29,
     "metadata": {},
     "output_type": "execute_result"
    }
   ],
   "source": [
    "from sklearn.metrics import f1_score\n",
    "print(f1_score(y_truth, y_pred, average=\"macro\"))\n",
    "f1_score(y_truth, y_pred, average=\"binary\")"
   ]
  },
  {
   "cell_type": "code",
   "execution_count": 27,
   "id": "52f2a8b9",
   "metadata": {},
   "outputs": [
    {
     "data": {
      "text/plain": [
       "0.3925242186072016"
      ]
     },
     "execution_count": 27,
     "metadata": {},
     "output_type": "execute_result"
    }
   ],
   "source": [
    "sum([1 if y_truth[i] == y_pred[i] else 0 for i in range(len(y_pred))]) / len(y_pred)"
   ]
  }
 ],
 "metadata": {
  "kernelspec": {
   "display_name": "Python 3 (ipykernel)",
   "language": "python",
   "name": "python3"
  },
  "language_info": {
   "codemirror_mode": {
    "name": "ipython",
    "version": 3
   },
   "file_extension": ".py",
   "mimetype": "text/x-python",
   "name": "python",
   "nbconvert_exporter": "python",
   "pygments_lexer": "ipython3",
   "version": "3.8.10"
  }
 },
 "nbformat": 4,
 "nbformat_minor": 5
}
